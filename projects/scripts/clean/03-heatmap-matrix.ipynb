{
 "cells": [
  {
   "cell_type": "markdown",
   "id": "0b66129b",
   "metadata": {},
   "source": [
    "# 3. Heatmap matrix\n",
    "In this notebook we:\n",
    "- Load the stats created in step 2\n",
    "- Create a heatmap matrix to display them using seaborn"
   ]
  },
  {
   "cell_type": "markdown",
   "id": "0fbb4d4c",
   "metadata": {},
   "source": [
    "## Setup"
   ]
  },
  {
   "cell_type": "code",
   "execution_count": null,
   "id": "64b71411",
   "metadata": {},
   "outputs": [],
   "source": [
    "# Installs\n",
    "import sys\n",
    "!echo \"Purging pip environment and installing packages...\"\n",
    "!{sys.executable} -m pip cache purge \n",
    "!{sys.executable} -m pip uninstall -y jhutils \n",
    "!{sys.executable} -m pip install -q seaborn\n",
    "!{sys.executable} -m pip install -q git+https://github.com/jdchart/jh-py-utils.git\n",
    "\n",
    "# Imports\n",
    "print(\"Importing packages...\")\n",
    "import os\n",
    "from jhutils.local_files import collect_files\n",
    "import matplotlib.pyplot as plt\n",
    "import pandas as pd\n",
    "import utils\n",
    "print(\"Ready!\")"
   ]
  },
  {
   "cell_type": "markdown",
   "id": "0ffad270",
   "metadata": {},
   "source": [
    "## Load data"
   ]
  },
  {
   "cell_type": "code",
   "execution_count": null,
   "id": "145021c4",
   "metadata": {},
   "outputs": [],
   "source": [
    "STATS = \"/Users/jacob/Documents/Repos/dps/projects/data/output/norm-stats\"\n",
    "\n",
    "stat_folders = [f for f in os.listdir(STATS) if os.path.isdir(os.path.join(STATS, f))]\n",
    "stat_folders.remove(\"dps_curve_manual\")\n",
    "print(f\"Sucsessfully found {len(stat_folders)} statistics folders!\")"
   ]
  },
  {
   "cell_type": "markdown",
   "id": "f9b305db",
   "metadata": {},
   "source": [
    "## Single Occurance Heatmap"
   ]
  },
  {
   "cell_type": "code",
   "execution_count": null,
   "id": "5e03774d",
   "metadata": {},
   "outputs": [],
   "source": [
    "INDEX = [0, 0]\n",
    "\n",
    "files = collect_files(os.path.join(STATS, stat_folders[INDEX[0]]), [\"csv\"])\n",
    "df = pd.read_csv(files[INDEX[1]], index_col=0)\n",
    "\n",
    "utils.display_heatmap(df)"
   ]
  },
  {
   "cell_type": "markdown",
   "id": "c2b9514a",
   "metadata": {},
   "source": [
    "## All occurances heatmap"
   ]
  },
  {
   "cell_type": "code",
   "execution_count": null,
   "id": "4f01876e",
   "metadata": {},
   "outputs": [],
   "source": [
    "INDEX = 0\n",
    "MANUAL_CSV = \"/Users/jacob/Documents/Repos/dps/projects/data/output/norm-stats/dps_curve_manual/LMI_20220826_1_0.0_8753.398625_mergedlength.csv\"\n",
    "\n",
    "window_stats = []\n",
    "files = collect_files(os.path.join(STATS, stat_folders[INDEX]), [\"csv\"])\n",
    "\n",
    "for file in files:\n",
    "    df = pd.read_csv(file, index_col=0)\n",
    "    window_stats.append(df)\n",
    "\n",
    "df = pd.read_csv(MANUAL_CSV, index_col=0)\n",
    "window_stats.append(df)\n",
    "\n",
    "combined_df = pd.concat(window_stats, ignore_index=True)\n",
    "\n",
    "df_windows = pd.DataFrame(combined_df).round(2)\n",
    "utils.display_heatmap(df_windows)"
   ]
  },
  {
   "cell_type": "markdown",
   "id": "5f402b2e",
   "metadata": {},
   "source": [
    "## Process all"
   ]
  },
  {
   "cell_type": "code",
   "execution_count": null,
   "id": "809a896b",
   "metadata": {},
   "outputs": [],
   "source": [
    "MANUAL_CSV = \"/Users/jacob/Documents/Repos/dps/projects/data/output/norm-stats/dps_curve_manual/LMI_20220826_1_0.0_8753.398625_mergedlength.csv\"\n",
    "OUTPUT_DEST = \"/Users/jacob/Documents/Repos/dps/projects/data/output/heatmaps\"\n",
    "os.makedirs(OUTPUT_DEST, exist_ok = True)\n",
    "\n",
    "for sub_folder in stat_folders:\n",
    "\n",
    "    window_stats = []\n",
    "    files = collect_files(os.path.join(STATS, sub_folder), [\"csv\"])\n",
    "\n",
    "    for file in files:\n",
    "        df = pd.read_csv(file, index_col=0)\n",
    "        window_stats.append(df)\n",
    "    \n",
    "    df = pd.read_csv(MANUAL_CSV, index_col=0)\n",
    "    window_stats.append(df)\n",
    "\n",
    "    combined_df = pd.concat(window_stats, ignore_index=True)\n",
    "\n",
    "    df_windows = pd.DataFrame(combined_df).round(2)\n",
    "    utils.save_heatmap(os.path.join(OUTPUT_DEST, f\"{sub_folder}.png\"), df_windows)"
   ]
  }
 ],
 "metadata": {
  "kernelspec": {
   "display_name": "venv",
   "language": "python",
   "name": "python3"
  },
  "language_info": {
   "codemirror_mode": {
    "name": "ipython",
    "version": 3
   },
   "file_extension": ".py",
   "mimetype": "text/x-python",
   "name": "python",
   "nbconvert_exporter": "python",
   "pygments_lexer": "ipython3",
   "version": "3.11.12"
  }
 },
 "nbformat": 4,
 "nbformat_minor": 5
}
