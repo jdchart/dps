{
 "cells": [
  {
   "cell_type": "markdown",
   "id": "0b66129b",
   "metadata": {},
   "source": [
    "# 2. Curve comparison\n",
    "In this notebook we:\n",
    "- Load the DPS curves that were collected in step 1.\n",
    "- Normalize the lengths so that they can be treated as datapoints.\n",
    "- Use Kmeans to group this data into 3 clusters, and get the centroid to obtain 3 curves that represetn each cluster.\n",
    "- Calculate differences between curves."
   ]
  },
  {
   "cell_type": "markdown",
   "id": "0fbb4d4c",
   "metadata": {},
   "source": [
    "## Setup"
   ]
  },
  {
   "cell_type": "code",
   "execution_count": null,
   "id": "64b71411",
   "metadata": {},
   "outputs": [],
   "source": [
    "# Installs\n",
    "import sys\n",
    "!echo \"Purging pip environment and installing packages...\"\n",
    "!{sys.executable} -m pip cache purge \n",
    "!{sys.executable} -m pip uninstall -y jhutils \n",
    "!{sys.executable} -m pip install -q git+https://github.com/jdchart/jh-py-utils.git\n",
    "\n",
    "# Imports\n",
    "print(\"Importing packages...\")\n",
    "import os\n",
    "from jhutils.local_files import collect_files\n",
    "import dps\n",
    "import matplotlib.pyplot as plt\n",
    "import numpy as np\n",
    "import pandas as pd\n",
    "import utils\n",
    "from sklearn.cluster import KMeans\n",
    "print(\"Ready!\")"
   ]
  },
  {
   "cell_type": "markdown",
   "id": "90e3b593",
   "metadata": {},
   "source": [
    "## Analysis config\n",
    "- `NORM_LEN`: the number of samples to use as dimensions for each curve."
   ]
  },
  {
   "cell_type": "code",
   "execution_count": null,
   "id": "75be4d91",
   "metadata": {},
   "outputs": [],
   "source": [
    "DPS_CURVES = \"/Users/jacob/Documents/Repos/dps/projects/data/output/dps_curves/dps_curve_32_1920_20\"\n",
    "OUTPUT_DEST = \"/Users/jacob/Documents/Repos/dps/projects/data/output/curve_comparison\"\n",
    "FPS = 32\n",
    "NORM_LEN = 5000\n",
    "NUM_CLUSTERS = 3\n",
    "\n",
    "THRESHOLD = 0.3\n",
    "TIME_WINDOW = 1\n",
    "WINDOW_SIZE = int(TIME_WINDOW * FPS)"
   ]
  },
  {
   "cell_type": "markdown",
   "id": "e05918f1",
   "metadata": {},
   "source": [
    "## Normalize curves"
   ]
  },
  {
   "cell_type": "code",
   "execution_count": null,
   "id": "1e7c717a",
   "metadata": {},
   "outputs": [],
   "source": [
    "analysis_files = collect_files(DPS_CURVES, [\"npy\"])\n",
    "processed_curves = []\n",
    "\n",
    "for file in analysis_files:\n",
    "    loaded = np.load(file)\n",
    "    interpolated_curve = np.interp(\n",
    "        np.linspace(0, len(loaded)-1, NORM_LEN),\n",
    "        np.arange(len(loaded)), \n",
    "        loaded\n",
    "    )\n",
    "    processed_curves.append(interpolated_curve)\n",
    "\n",
    "processed_curves = np.array(processed_curves)\n",
    "\n",
    "if np.isnan(processed_curves).any():\n",
    "    processed_curves = np.nan_to_num(processed_curves, nan=0.0)\n",
    "else:\n",
    "    pass\n",
    "\n",
    "print(processed_curves.shape)"
   ]
  },
  {
   "cell_type": "markdown",
   "id": "6e483c66",
   "metadata": {},
   "source": [
    "## Clustering"
   ]
  },
  {
   "cell_type": "code",
   "execution_count": null,
   "id": "ca23d828",
   "metadata": {},
   "outputs": [],
   "source": [
    "kmeans = KMeans(n_clusters= NUM_CLUSTERS, random_state=42)\n",
    "cluster_labels = kmeans.fit_predict(processed_curves)\n",
    "cluster_centers = kmeans.cluster_centers_\n",
    "\n",
    "print(\"👍 Clustering complete.\")"
   ]
  },
  {
   "cell_type": "code",
   "execution_count": null,
   "id": "265750fa",
   "metadata": {},
   "outputs": [],
   "source": [
    "plt.figure(figsize=(15, 5 * NUM_CLUSTERS))\n",
    "\n",
    "for cluster_id in range(NUM_CLUSTERS):\n",
    "    plt.subplot(NUM_CLUSTERS, 1, cluster_id + 1)\n",
    "\n",
    "    for i, curve in enumerate(processed_curves):\n",
    "        if cluster_labels[i] == cluster_id:\n",
    "            plt.plot(\n",
    "                np.linspace(0, len(curve)/FPS, NORM_LEN),\n",
    "                curve,\n",
    "                label=f\"File {os.path.basename(analysis_files[i])}\",\n",
    "                alpha=0.6\n",
    "            )\n",
    "\n",
    "    plt.plot(\n",
    "        np.linspace(0, len(curve)/FPS, NORM_LEN),\n",
    "        cluster_centers[cluster_id],\n",
    "        label=f\"Cluster {cluster_id} Center\",\n",
    "        linewidth=3,\n",
    "        linestyle=\"--\",\n",
    "        color=\"black\"\n",
    "    )\n",
    "\n",
    "    plt.title(f\"Cluster {cluster_id} from the clustering of WPS curves from 13 runthroughs and performances of Le Malade Imaginaire directed by Arthur Nauzyciel\")\n",
    "    plt.xlabel(\"Time (MM:SS)\")\n",
    "    plt.ylabel(\"DPS\")\n",
    "    plt.legend(fontsize=\"small\")\n",
    "    plt.tight_layout()\n",
    "    time_max = len(cluster_centers[0]) / FPS\n",
    "    x_ticks = np.arange(0, time_max + 1, 5)\n",
    "    plt.xticks(x_ticks)\n",
    "    plt.grid()\n",
    "\n",
    "os.makedirs(os.path.join(OUTPUT_DEST, f\"{os.path.basename(DPS_CURVES)}\"), exist_ok = True)\n",
    "plt.savefig(os.path.join(OUTPUT_DEST, f\"{os.path.basename(DPS_CURVES)}\", \"Curve clusters.png\"), dpi=300, bbox_inches='tight')\n",
    "plt.show()\n",
    "plt.close()"
   ]
  },
  {
   "cell_type": "markdown",
   "id": "18f4f2d7",
   "metadata": {},
   "source": [
    "## Centroid comparison"
   ]
  },
  {
   "cell_type": "code",
   "execution_count": null,
   "id": "365073ec",
   "metadata": {},
   "outputs": [],
   "source": [
    "THRESH = 0.7\n",
    "\n",
    "differentials = {}\n",
    "for i in range(len(cluster_centers)):\n",
    "    for j in range(i + 1, len(cluster_centers)):\n",
    "        differ = np.abs(cluster_centers[i] - cluster_centers[j])\n",
    "        differentials[f\"{i}-{j}\"] = differ\n",
    "\n",
    "plt.figure(figsize=(15, 5))\n",
    "for pair, differ in differentials.items():\n",
    "    plt.plot(np.linspace(0, len(differ) / FPS, len(differ)), \n",
    "             differ, label=f\"Différence intégrale entre Cluster {pair}\")\n",
    "\n",
    "plt.title(\"Differences entre centroids des clusters\")\n",
    "plt.xlabel(\"Time (s)\")\n",
    "plt.ylabel(\"Difference in Cumulative Variation\")\n",
    "plt.legend()\n",
    "plt.tight_layout()\n",
    "time_max = len(cluster_centers[0]) / FPS\n",
    "x_ticks = np.arange(0, time_max + 1, 5)\n",
    "plt.xticks(x_ticks)\n",
    "\n",
    "plt.grid()\n",
    "plt.savefig(os.path.join(OUTPUT_DEST, f\"{os.path.basename(DPS_CURVES)}\", \"Difference curves.png\"), dpi=300, bbox_inches='tight')\n",
    "plt.show()\n",
    "plt.close()\n",
    "\n",
    "plt.figure(figsize=(15, 5 * len(differentials)))\n",
    "for idx, (pair, differ) in enumerate(differentials.items()):\n",
    "    plt.subplot(len(differentials), 1, idx + 1)\n",
    "    plt.plot(np.linspace(0, len(differ) / FPS, len(differ)), differ, label=f\"Différence intégrale entre Cluster {pair}\")\n",
    "    \n",
    "    high_indices = np.where(differ > THRESH)[0]\n",
    "    plt.scatter(\n",
    "        np.array(high_indices) / FPS,\n",
    "        [differ[i] for i in high_indices], \n",
    "        color='red', \n",
    "        label=f\"High Variation (>{THRESH})\", \n",
    "        zorder=5\n",
    "    )\n",
    "    \n",
    "    plt.axhline(y=THRESH, color='red', linestyle='--', label=f\"Threshold = {THRESH}\")  # Ligne de seuil\n",
    "    plt.title(f\"Différentiel entre Cluster {pair}\")\n",
    "    plt.xlabel(\"Time (s)\")\n",
    "    plt.ylabel(\"Difference in Cumulative Variation\")\n",
    "    plt.legend()\n",
    "plt.tight_layout()\n",
    "\n",
    "plt.savefig(os.path.join(OUTPUT_DEST, f\"{os.path.basename(DPS_CURVES)}\", \"Difference curves (each cluster).png\"), dpi=300, bbox_inches='tight')\n",
    "plt.show()\n",
    "plt.close()"
   ]
  },
  {
   "cell_type": "code",
   "execution_count": null,
   "id": "e4e41d52",
   "metadata": {},
   "outputs": [],
   "source": [
    "single_graph_key = \"0-1 vs 0-2\"\n",
    "\n",
    "differentials = {}\n",
    "for i in range(len(cluster_centers)):\n",
    "    for j in range(i + 1, len(cluster_centers)):\n",
    "        differ = np.abs(cluster_centers[i] - cluster_centers[j])\n",
    "        differentials[f\"{i}-{j}\"] = differ\n",
    "\n",
    "print(\"Clés des différentiels :\", list(differentials.keys()))\n",
    "\n",
    "differentials_of_differentials = {}\n",
    "diff_keys = list(differentials.keys())\n",
    "\n",
    "for i in range(len(diff_keys)):\n",
    "    for j in range(i + 1, len(diff_keys)):\n",
    "        key1, key2 = diff_keys[i], diff_keys[j]\n",
    "        differ1, differ2 = differentials[key1], differentials[key2]\n",
    "        differ_of_differ = np.abs(differ1 - differ2)\n",
    "        differentials_of_differentials[f\"{key1} vs {key2}\"] = differ_of_differ\n",
    "\n",
    "print(\"Clés des différentiels des différentiels :\", list(differentials_of_differentials.keys()))\n",
    "\n",
    "# Utilisation d'une clé valide\n",
    "if single_graph_key not in differentials_of_differentials:\n",
    "    print(f\"Clé '{single_graph_key}' introuvable. Utilisation d'une clé par défaut.\")\n",
    "    single_graph_key = list(differentials_of_differentials.keys())[0]\n",
    "\n",
    "# Traçage\n",
    "utils.plot_differentials_with_segments(differentials_of_differentials, FPS, THRESHOLD, TIME_WINDOW, WINDOW_SIZE, os.path.join(OUTPUT_DEST, f\"{os.path.basename(DPS_CURVES)}\", \"Mutations.png\"), key=single_graph_key)"
   ]
  }
 ],
 "metadata": {
  "kernelspec": {
   "display_name": "venv",
   "language": "python",
   "name": "python3"
  },
  "language_info": {
   "codemirror_mode": {
    "name": "ipython",
    "version": 3
   },
   "file_extension": ".py",
   "mimetype": "text/x-python",
   "name": "python",
   "nbconvert_exporter": "python",
   "pygments_lexer": "ipython3",
   "version": "3.11.12"
  }
 },
 "nbformat": 4,
 "nbformat_minor": 5
}
