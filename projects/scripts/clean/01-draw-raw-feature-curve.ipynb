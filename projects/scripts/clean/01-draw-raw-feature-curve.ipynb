{
 "cells": [
  {
   "cell_type": "markdown",
   "id": "0b66129b",
   "metadata": {},
   "source": [
    "# 1. Get feature curve\n",
    "In this notebook we:\n",
    "- Load the speech recognition data for each representation.\n",
    "- We get a DPS feature curve and save for later processing."
   ]
  },
  {
   "cell_type": "markdown",
   "id": "0fbb4d4c",
   "metadata": {},
   "source": [
    "## Setup"
   ]
  },
  {
   "cell_type": "code",
   "execution_count": null,
   "id": "64b71411",
   "metadata": {},
   "outputs": [],
   "source": [
    "# Installs\n",
    "import sys\n",
    "!echo \"Purging pip environment and installing packages...\"\n",
    "!{sys.executable} -m pip cache purge \n",
    "!{sys.executable} -m pip uninstall -y jhutils \n",
    "!{sys.executable} -m pip uninstall -y dps \n",
    "!{sys.executable} -m pip install -q git+https://github.com/jdchart/dps.git\n",
    "!{sys.executable} -m pip install -q git+https://github.com/jdchart/jh-py-utils.git\n",
    "\n",
    "# Imports\n",
    "print(\"Importing packages...\")\n",
    "import os\n",
    "from jhutils.local_files import read_json, collect_files\n",
    "import dps\n",
    "import numpy as np\n",
    "import utils\n",
    "import pandas as pd\n",
    "print(\"Ready!\")"
   ]
  },
  {
   "cell_type": "markdown",
   "id": "0ffad270",
   "metadata": {},
   "source": [
    "## Load analyses"
   ]
  },
  {
   "cell_type": "code",
   "execution_count": null,
   "id": "145021c4",
   "metadata": {},
   "outputs": [],
   "source": [
    "VOSK_ANALYSES = \"/Users/jacob/Documents/Repos/dps/projects/data/input\"\n",
    "\n",
    "analysis_files = collect_files(VOSK_ANALYSES, [\"json\"])\n",
    "print(f\"Succesfully found {len(analysis_files)} files!\")"
   ]
  },
  {
   "cell_type": "markdown",
   "id": "e258453b",
   "metadata": {},
   "source": [
    "## Analysis config\n",
    "- `FPS`: frames per second in the raw curve. When loading the speech analysis and creating the 'raw curve' that represents speaking/silence, how many frames correspond to one second.\n",
    "- `WINDOW_SIZE`: Number of frames in an analysis window. Should be at least the fps. When getting the DPS feature curve, window size in frames, of the rolling window that calculates DPS. Window size in seconds : WINDOW_SIZE / FPS\n",
    "- `HOP_SIZE`: Size in frames of the rolling window."
   ]
  },
  {
   "cell_type": "code",
   "execution_count": null,
   "id": "ea7a2421",
   "metadata": {},
   "outputs": [],
   "source": [
    "FPS = 32\n",
    "WINDOW_SIZE = 1920\n",
    "HOP_SIZE = 20\n",
    "DISPLAY_INTERVAL = 5\n",
    "\n",
    "print(f\"Rolling window size in seconds: {WINDOW_SIZE / FPS}\")"
   ]
  },
  {
   "cell_type": "markdown",
   "id": "5245fdb0",
   "metadata": {},
   "source": [
    "## Display DPS feature curve\n",
    "For testing purposes. Change `INDEX` to select a file from your list."
   ]
  },
  {
   "cell_type": "code",
   "execution_count": null,
   "id": "55b41ea4",
   "metadata": {},
   "outputs": [],
   "source": [
    "INDEX = 0\n",
    "\n",
    "analysis_read = read_json(analysis_files[INDEX])\n",
    "speech_recognition = dps.SpeechAnalysis(analysis_files[INDEX], fps = FPS)\n",
    "dps_curve = speech_recognition.get_dps_feature_curve(WINDOW_SIZE, HOP_SIZE)\n",
    "\n",
    "print(f\"Raw curve num frames: {speech_recognition.raw_curve[0].shape}\")\n",
    "print(f\"Media length: {analysis_read['media_length']}\")\n",
    "print(f\"Media length in frames: {analysis_read['media_length'] * FPS}\")\n",
    "print(f\"DPS feature curve shape: {dps_curve.shape}\")\n",
    "\n",
    "speech_recognition.display_raw_curve(0)\n",
    "speech_recognition.display_raw_curve(1)\n",
    "utils.display_curve(dps_curve, \"time\", FPS, DISPLAY_INTERVAL)"
   ]
  },
  {
   "cell_type": "markdown",
   "id": "423187c7",
   "metadata": {},
   "source": [
    "## Save feature curves"
   ]
  },
  {
   "cell_type": "code",
   "execution_count": null,
   "id": "f4e4c3a3",
   "metadata": {},
   "outputs": [],
   "source": [
    "OUTPUT_DEST = f\"/Users/jacob/Documents/Repos/dps/projects/data/output/dps_curves/dps_curve_{FPS}_{WINDOW_SIZE}_{HOP_SIZE}\"\n",
    "\n",
    "for i, file in enumerate(analysis_files):\n",
    "    print(f\"Treating file {i + 1}/{len(analysis_files)}\")\n",
    "    speech_recognition = dps.SpeechAnalysis(file, fps = FPS)\n",
    "    dps_curve = speech_recognition.get_dps_feature_curve(WINDOW_SIZE, HOP_SIZE)\n",
    "\n",
    "    os.makedirs(os.path.join(OUTPUT_DEST, \"data\"), exist_ok = True)\n",
    "    os.makedirs(os.path.join(OUTPUT_DEST, \"graphs\"), exist_ok = True)\n",
    "\n",
    "    file_name = os.path.splitext(os.path.basename(file))[0]\n",
    "    np.save(os.path.join(OUTPUT_DEST, \"data\", f\"{file_name}.npy\"), dps_curve)\n",
    "    utils.save_curve(os.path.join(OUTPUT_DEST, \"graphs\", f\"{file_name}.png\"), dps_curve, \"time\", FPS, DISPLAY_INTERVAL)\n",
    "\n",
    "print(\"👍 Finished!\")"
   ]
  },
  {
   "cell_type": "markdown",
   "id": "1c651c3e",
   "metadata": {},
   "source": [
    "## Test"
   ]
  },
  {
   "cell_type": "code",
   "execution_count": null,
   "id": "9b0b0cea",
   "metadata": {},
   "outputs": [],
   "source": [
    "np_files = collect_files(OUTPUT_DEST, [\"npy\"])\n",
    "for np_file in np_files:\n",
    "    loaded = np.load(np_file)\n",
    "    print(f\"{os.path.basename(np_file)}: {loaded.shape}\")"
   ]
  },
  {
   "cell_type": "markdown",
   "id": "a8c14e36",
   "metadata": {},
   "source": [
    "# Process manual data"
   ]
  },
  {
   "cell_type": "code",
   "execution_count": null,
   "id": "7a309ac6",
   "metadata": {},
   "outputs": [],
   "source": [
    "SOURCE_FILE = \"/Users/jacob/Documents/Repos/dps/projects/data/Fusion/operate1curve/LMI_Stopwatch_20230509.csv\"\n",
    "df_stopwatch = pd.read_csv(SOURCE_FILE, decimal=',')\n",
    "\n",
    "total_duration = df_stopwatch['end_time_s'].max()\n",
    "\n",
    "wps_signal = np.full(int(np.ceil(total_duration)), np.nan)\n",
    "\n",
    "for _, row in df_stopwatch.iterrows():\n",
    "    start = int(np.floor(row['start_time_s']))\n",
    "    end = int(np.ceil(row['end_time_s']))\n",
    "    wps_signal[start:end] = row['wps_mean']\n",
    "\n",
    "utils.display_curve(wps_signal)\n",
    "utils.display_curve(wps_signal, \"time\", 1, DISPLAY_INTERVAL)"
   ]
  },
  {
   "cell_type": "code",
   "execution_count": null,
   "id": "5d572983",
   "metadata": {},
   "outputs": [],
   "source": [
    "OUTPUT_DEST = f\"/Users/jacob/Documents/Repos/dps/projects/data/output/dps_curves/dps_curve_LMI_Stopwatch_20230509\"\n",
    "os.makedirs(os.path.join(OUTPUT_DEST, \"data\"), exist_ok=True)\n",
    "os.makedirs(os.path.join(OUTPUT_DEST, \"graphs\"), exist_ok=True)\n",
    "np.save(os.path.join(OUTPUT_DEST, \"data\", \"LMI_Stopwatch_20230509.npy\"), wps_signal)\n",
    "utils.save_curve(os.path.join(OUTPUT_DEST, \"graphs\", \"LMI_Stopwatch_20230509.png\"), wps_signal, \"time\", 1, DISPLAY_INTERVAL)"
   ]
  }
 ],
 "metadata": {
  "kernelspec": {
   "display_name": "venv",
   "language": "python",
   "name": "python3"
  },
  "language_info": {
   "codemirror_mode": {
    "name": "ipython",
    "version": 3
   },
   "file_extension": ".py",
   "mimetype": "text/x-python",
   "name": "python",
   "nbconvert_exporter": "python",
   "pygments_lexer": "ipython3",
   "version": "3.11.12"
  }
 },
 "nbformat": 4,
 "nbformat_minor": 5
}
